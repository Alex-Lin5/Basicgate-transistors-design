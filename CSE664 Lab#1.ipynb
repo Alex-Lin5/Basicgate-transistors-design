{
 "cells": [
  {
   "cell_type": "code",
   "execution_count": 201,
   "id": "329cc3b8",
   "metadata": {},
   "outputs": [
    {
     "name": "stdout",
     "output_type": "stream",
     "text": [
      "capacitance:  [0.2, 0.4, 0.6, 0.8, 1.0, 1.2, 1.4, 1.6, 1.8, 2.0]\n",
      "Tplh:  [30.9194, 56.9062, 85.3044, 116.9992, 141.9983, 168.5988, 195.7995, 224.0765, 251.3581, 279.5669]\n",
      "Tphl:  [4.8732, 8.9452, 12.9735, 16.6661, 20.7048, 24.7919, 28.7802, 32.0963, 36.8888, 40.8792]\n"
     ]
    }
   ],
   "source": [
    "import re\n",
    "import numpy as np\n",
    "import matplotlib.pyplot as plt\n",
    "\n",
    "cap=[]; tplh=[]; tphl=[]\n",
    "fo = open(\"./untitled.txt\")\n",
    "line = fo.readline()\n",
    "lineindex = 0\n",
    "while line:\n",
    "    lineindex+=1\n",
    "    # match capacitor\n",
    "    rgex1 = r'cap\\s*\\=\\s*(\\d+\\.\\d+\\w?)'\n",
    "    strmatch1 = re.search(rgex1, line)\n",
    "    if strmatch1:\n",
    "        numsift = re.search(r'(\\d+\\.\\d+)(\\w)', strmatch1.group(0))\n",
    "        if numsift.group(2) == 'f':\n",
    "            cap.append(float(numsift.group(1))*10**(-3))\n",
    "        elif numsift.group(2) == 'p':\n",
    "            cap.append(float(numsift.group(1))*10**(0))\n",
    "        else:\n",
    "            cap.append(float(numsift.group(1))*10**(-1))\n",
    "    # match tphl\n",
    "    rgex2 = r'tphl\\=\\s*(\\d+\\.\\d+)\\w?'\n",
    "    strmatch2 = re.search(rgex2,line)\n",
    "    if strmatch2:\n",
    "        tphl.append(float(strmatch2.group(1)))\n",
    "    # match tplh\n",
    "    rgex3 = r'tplh\\=\\s*(\\d+\\.\\d+)\\w?'\n",
    "    strmatch3 = re.search(rgex3,line)\n",
    "    if strmatch3:\n",
    "        tplh.append(float(strmatch3.group(1)))\n",
    "    # end\n",
    "#     print (lineindex, line)\n",
    "    line = fo.readline()\n",
    "fo.close\n",
    "print(\"capacitance: \", cap)\n",
    "print(\"Tplh: \", tplh)\n",
    "print(\"Tphl: \", tphl)"
   ]
  },
  {
   "cell_type": "code",
   "execution_count": 202,
   "id": "ed141175",
   "metadata": {},
   "outputs": [
    {
     "data": {
      "text/plain": [
       "<function matplotlib.pyplot.show(close=None, block=None)>"
      ]
     },
     "execution_count": 202,
     "metadata": {},
     "output_type": "execute_result"
    },
    {
     "data": {
      "image/png": "[encoded data removed]",
      "text/plain": [
       "<Figure size 1080x288 with 2 Axes>"
      ]
     },
     "metadata": {
      "needs_background": "light"
     },
     "output_type": "display_data"
    }
   ],
   "source": [
    "plt.figure(figsize=(15,4))\n",
    "plt.subplot(121)\n",
    "plt.plot(cap, tplh, color='b', marker='o', linestyle='-',label='Tplh')\n",
    "plt.xlabel('Capacitance /pF')\n",
    "plt.ylabel('Propagation Time /ns')\n",
    "plt.title('')\n",
    "plt.legend()\n",
    "plt.subplot(122)\n",
    "plt.plot(cap, tphl, color='orange', marker='x', linestyle='-', label='Tphl')\n",
    "plt.xlabel('Capacitance /pF')\n",
    "plt.ylabel('Propagation Time /ns')\n",
    "plt.title('')\n",
    "plt.legend()\n",
    "plt.show\n"
   ]
  },
  {
   "cell_type": "code",
   "execution_count": 132,
   "id": "2d16763e",
   "metadata": {},
   "outputs": [
    {
     "name": "stdout",
     "output_type": "stream",
     "text": [
      "None\n",
      "('2.000E', '2.000', 'E')\n",
      "<re.Match object; span=(15, 30), match='cap =    2.000E'>\n",
      " *** parameter cap =    2.000E-13 ***\n",
      "<class 'str'>\n",
      "<class 'str'>\n"
     ]
    }
   ],
   "source": [
    "str1=' *** parameter cap =    2.000E-13 ***'\n",
    "rgex1 = r'cap\\s*\\=\\s*(\\d+\\.\\d+\\w?)'\n",
    "strmatch1 = re.search(rgex, str1)\n",
    "numsift = re.search(r'(\\d+\\.\\d+)(\\w)', strmatch1.group(0))\n",
    "if numsift.group(2) == 'f':\n",
    "    cap = float(numsift.group(1))*10**(-3)\n",
    "elif numsift.group(2) == 'p':\n",
    "    cap = float(numsift.group(1))*10**(0)\n",
    "else:\n",
    "    cap = float(numsift.group(1))*10**(-6)\n",
    "    \n",
    "print(numsift.group(0,1,2))\n",
    "\n",
    "print(strmatch1)\n",
    "print(strmatch1.string)\n",
    "# print(strmatch1.match)\n",
    "print(type(strmatch1.group(1)))\n",
    "print(type(\"f\"))"
   ]
  },
  {
   "cell_type": "code",
   "execution_count": 167,
   "id": "0a52b34e",
   "metadata": {},
   "outputs": [
    {
     "name": "stdout",
     "output_type": "stream",
     "text": [
      "<re.Match object; span=(2, 17), match='tphl=   4.8732n'>\n",
      "6 tphl=   4.8732n  targ= 522.3732n   trig= 517.5000n\n",
      "4.8732\n"
     ]
    }
   ],
   "source": [
    "str2='6 tphl=   4.8732n  targ= 522.3732n   trig= 517.5000n'\n",
    "rgex2 = r'tphl\\=\\s*(\\d\\.\\d+)\\w?'\n",
    "strmatch2 = re.search(rgex2,str2)\n",
    "tphl.append(float(strmatch2.group(1)))\n",
    "print(strmatch2)\n",
    "print(strmatch2.string)\n",
    "# print(strmatch1.match)\n",
    "print(strmatch2.group(1))\n"
   ]
  },
  {
   "cell_type": "code",
   "execution_count": 80,
   "id": "36ba8c3e",
   "metadata": {},
   "outputs": [
    {
     "name": "stdout",
     "output_type": "stream",
     "text": [
      "<class 'str'>\n",
      "<class 'int'>\n",
      "2345\n"
     ]
    }
   ],
   "source": [
    "numstr = \"2344\"\n",
    "print(type(numstr))\n",
    "# numstrplus = numstr + 1\n",
    "num = int(numstr)\n",
    "print(type(num))\n",
    "numplus = num + 1\n",
    "print(numplus)"
   ]
  },
  {
   "cell_type": "code",
   "execution_count": 154,
   "id": "d59337e0",
   "metadata": {},
   "outputs": [
    {
     "name": "stdout",
     "output_type": "stream",
     "text": [
      "[1, 4, 2, (5, 35, 2)]\n",
      "<class 'list'>\n",
      "<class 'tuple'>\n",
      "[]\n"
     ]
    }
   ],
   "source": [
    "capit = [1,4,2]\n",
    "B = (5,35,2)\n",
    "capit.append(B)\n",
    "# capit=[]\n",
    "print(capit)\n",
    "print(type(capit))\n",
    "print(type(B))\n",
    "print(cap)"
   ]
  },
  {
   "cell_type": "code",
   "execution_count": null,
   "id": "e94f8d61",
   "metadata": {},
   "outputs": [],
   "source": []
  }
 ],
 "metadata": {
  "kernelspec": {
   "display_name": "Python 3",
   "language": "python",
   "name": "python3"
  },
  "language_info": {
   "codemirror_mode": {
    "name": "ipython",
    "version": 3
   },
   "file_extension": ".py",
   "mimetype": "text/x-python",
   "name": "python",
   "nbconvert_exporter": "python",
   "pygments_lexer": "ipython3",
   "version": "3.8.8"
  }
 },
 "nbformat": 4,
 "nbformat_minor": 5
}
